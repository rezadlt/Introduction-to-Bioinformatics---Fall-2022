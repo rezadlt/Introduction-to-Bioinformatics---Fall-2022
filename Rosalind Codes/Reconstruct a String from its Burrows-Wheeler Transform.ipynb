{
 "cells": [
  {
   "cell_type": "code",
   "execution_count": 1,
   "metadata": {},
   "outputs": [
    {
     "name": "stdout",
     "output_type": "stream",
     "text": [
      "TCAATTGTGAGCTTTATACATCCCGGGGAAACATTCCTTAGCTCAATGTATAGAAGGCAGCTCCTAGCAAAACCCCGCTGAGCGAGGCGCATCACAGAATGTAGAGAGGAGGTTCAACTATTCATAATGGGTTGCCTAGAGATCTGAATGCTGCTCCATAAAGGGTGAAAGCCTAAAAGTTGGGTGGCAGCAAGGATAGCGAGAGACCACTCGGAGGAGCACCCTAGCAATAGGTGCTCTGGAAGGCCGACACTCATCAGTGCTCCGAACATACCTGCATCAGTGCATCAGATTGAGAAGTAAGACGAGTGGTTTGATATTCAAAAAAATTAGGCGGGATAGCTGCTCCCTTCGAGCTGAGCTAAGACGAGGGTTCAATATTTTTTTACCTCTTTCGCGGCCTTGGACTCTGACAATCACGGGCAGATATGCGCAAGTAAGACTTGGCCAACGTCATGTCGTCTCGTGCGTGGTTGATAGCGACATACCACGGCTAGATAGTTTCGTCCCATAATCTCCTGGCGGCTTTAAATATTGGTAGTCCGCGGGTGTGCCAGGGACCGTAAAGCGGTCACAGTATAGGACTTTCCCCGCATTGTGCTTCGGCCGTTGGGCGCAGGGCACGCAGCAGAGTTTAATCCAAGATGCTGGCGGCGTAGTATAGAATTTCTGTCTTTAATGCCCACACACCGATAGGAGGATATTTTCCAAGCTGAATTCGGTTCTAGGTTTACCAAAGGGAGTATTGGCCTACCACTTAAATTTAATGCTGATAATCGGCTTGAACTGTTGAGACGCTTGTTGCTGACGGGCGCAATAAAGGATCTGTACGTCCTAGCGGTATATTTAAAATTATGGGTAATATCGAACTCTGTAGTATGAGGACATGCGACATC$\n"
     ]
    }
   ],
   "source": [
    "file = open('/Users/mac/Desktop/courses/Bioinformatic/rosalind_ba9j.txt','r')\n",
    "data = file.readline()\n",
    "\n",
    "def BWT(cyclic_rotations, transform):\n",
    "    return [transform[i] + cyclic_rotations[i] for i in range(len(transform))]\n",
    "def inverse(transform):\n",
    "    cyclic_rotations = transform\n",
    "    for i in range(len(transform) - 1):\n",
    "        cyclic_rotations = BWT(sorted(cyclic_rotations), transform)\n",
    "    temp = []\n",
    "    for i in range(len(cyclic_rotations)):\n",
    "        if cyclic_rotations[i].endswith('$'):\n",
    "            temp.append(cyclic_rotations[i])\n",
    "    return temp\n",
    "\n",
    "c = data\n",
    "y = inverse(c)\n",
    "print(''.join(y))"
   ]
  },
  {
   "cell_type": "code",
   "execution_count": null,
   "metadata": {},
   "outputs": [],
   "source": []
  }
 ],
 "metadata": {
  "kernelspec": {
   "display_name": "Python 3",
   "language": "python",
   "name": "python3"
  },
  "language_info": {
   "codemirror_mode": {
    "name": "ipython",
    "version": 3
   },
   "file_extension": ".py",
   "mimetype": "text/x-python",
   "name": "python",
   "nbconvert_exporter": "python",
   "pygments_lexer": "ipython3",
   "version": "3.8.5"
  }
 },
 "nbformat": 4,
 "nbformat_minor": 4
}
