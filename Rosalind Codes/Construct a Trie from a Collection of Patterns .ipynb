{
 "cells": [
  {
   "cell_type": "code",
   "execution_count": 2,
   "metadata": {},
   "outputs": [],
   "source": [
    "# Uses python3\n",
    "import sys\n",
    "\n",
    "# Return the trie built from patterns\n",
    "# in the form of a dictionary of dictionaries,\n",
    "# e.g. {0:{'A':1,'T':2},1:{'C':3}}\n",
    "# where the key of the external dictionary is\n",
    "# the node ID (integer), and the internal dictionary\n",
    "# contains all the trie edges outgoing from the corresponding\n",
    "# node, and the keys are the letters on those edges, and the\n",
    "# values are the node IDs to which these edges lead.\n",
    "\n",
    "\n",
    "def build_trie(patterns):\n",
    "    tree = dict()\n",
    "    tree[0] = {}\n",
    "    index = 1\n",
    "\n",
    "    for pattern in patterns:\n",
    "        current = tree[0]\n",
    "        for letter in pattern:\n",
    "            if letter in current.keys():\n",
    "                current = tree[current[letter]]\n",
    "            else:\n",
    "                current[letter] = index\n",
    "                tree[index] = {}\n",
    "                current = tree[index]\n",
    "                index = index + 1\n",
    "    return tree\n",
    "\n",
    "\n",
    "if __name__ == '__main__':\n",
    "    patterns = sys.stdin.read().split()[1:]\n",
    "    tree = build_trie(patterns)\n",
    "    for node in tree:\n",
    "        for c in tree[node]:\n",
    "            print(\"{}->{}:{}\".format(node, tree[node][c], c))"
   ]
  }
 ],
 "metadata": {
  "kernelspec": {
   "display_name": "Python 3",
   "language": "python",
   "name": "python3"
  },
  "language_info": {
   "codemirror_mode": {
    "name": "ipython",
    "version": 3
   },
   "file_extension": ".py",
   "mimetype": "text/x-python",
   "name": "python",
   "nbconvert_exporter": "python",
   "pygments_lexer": "ipython3",
   "version": "3.8.5"
  }
 },
 "nbformat": 4,
 "nbformat_minor": 4
}
