{
 "cells": [
  {
   "cell_type": "code",
   "execution_count": 7,
   "metadata": {},
   "outputs": [
    {
     "name": "stdout",
     "output_type": "stream",
     "text": [
      "113088\n"
     ]
    }
   ],
   "source": [
    "file = open('/Users/mac/Desktop/courses/Bioinformatic/rosalind_mrna.txt')\n",
    "dna = file.readlines()\n",
    "total = 1\n",
    "\n",
    "for a in dna[0]:\n",
    "    if (a=='M'):\n",
    "        possibilities = 1\n",
    "    elif (a=='W'):\n",
    "        possibilities = 1    \n",
    "    elif (a=='C'):\n",
    "        possibilities = 2\n",
    "    elif (a=='D'):\n",
    "        possibilities = 2\n",
    "    elif (a=='E'):\n",
    "        possibilities = 2\n",
    "    elif (a=='F'):\n",
    "        possibilities = 2\n",
    "    elif (a=='H'):\n",
    "        possibilities = 2\n",
    "    elif (a=='K'):\n",
    "        possibilities = 2\n",
    "    elif (a=='N'):\n",
    "        possibilities = 2\n",
    "    elif (a=='Q'):\n",
    "        possibilities = 2\n",
    "    elif (a=='Y'):\n",
    "        possibilities = 2\n",
    "    elif (a=='I'):\n",
    "        possibilities = 3\n",
    "    elif (a=='V'):\n",
    "        possibilities = 4\n",
    "    elif (a=='P'):\n",
    "        possibilities = 4\n",
    "    elif (a=='T'):\n",
    "        possibilities = 4\n",
    "    elif (a=='A'):\n",
    "        possibilities = 4\n",
    "    elif (a=='G'):\n",
    "        possibilities = 4\n",
    "    elif (a=='L'):\n",
    "        possibilities = 6\n",
    "    elif (a=='S'):\n",
    "        possibilities = 6\n",
    "    elif (a=='R'):\n",
    "        possibilities = 6\n",
    "    total = possibilities * total\n",
    "    total = total%1000000\n",
    "\n",
    "print(total*3)"
   ]
  }
 ],
 "metadata": {
  "kernelspec": {
   "display_name": "Python 3",
   "language": "python",
   "name": "python3"
  },
  "language_info": {
   "codemirror_mode": {
    "name": "ipython",
    "version": 3
   },
   "file_extension": ".py",
   "mimetype": "text/x-python",
   "name": "python",
   "nbconvert_exporter": "python",
   "pygments_lexer": "ipython3",
   "version": "3.8.5"
  }
 },
 "nbformat": 4,
 "nbformat_minor": 4
}
