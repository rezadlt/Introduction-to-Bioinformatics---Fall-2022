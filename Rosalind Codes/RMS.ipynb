{
 "cells": [
  {
   "cell_type": "code",
   "execution_count": 1,
   "metadata": {},
   "outputs": [
    {
     "name": "stdin",
     "output_type": "stream",
     "text": [
      "Enter the number of tasks:  2\n"
     ]
    },
    {
     "name": "stdout",
     "output_type": "stream",
     "text": [
      "Enter <Excecution Time> <Period>\n"
     ]
    },
    {
     "name": "stdin",
     "output_type": "stream",
     "text": [
      " 3 5\n",
      " 3 8\n"
     ]
    },
    {
     "name": "stdout",
     "output_type": "stream",
     "text": [
      "Average utilization is:  0.97\n",
      "n is:  0.8284271247461903\n",
      "not schedulable\n"
     ]
    }
   ],
   "source": [
    "import random\n",
    "from math import ceil\n",
    "\n",
    "SC=[] \n",
    "n=int(input(\"Enter the number of tasks: \"))\n",
    "task=[]\n",
    "print(\"Enter <Excecution Time> <Period>\")\n",
    "for i in range(0,n):\n",
    "    pair=[]\n",
    "    inp=input()\n",
    "    p,e=map(int,inp.split())\n",
    "    pair.append(int(p))\n",
    "    pair.append(int(e))\n",
    "    task.append(pair)\n",
    "\n",
    "def LCM(number1, number2): \n",
    "    if(number1 > number2): \n",
    "        number = number1 \n",
    "        x = number2 \n",
    "    else: \n",
    "        number = number2 \n",
    "        x = number1 \n",
    "    y = number % x\n",
    "    while(y != 0): \n",
    "        number = x \n",
    "        x = y \n",
    "        y = number % x \n",
    "    gcd = x \n",
    "    lcm = int(int(number1 * number2)/int(gcd)) \n",
    "    return lcm\n",
    "\n",
    "def compare(task, x, y):\n",
    "    for i in x:\n",
    "        k, l = i\n",
    "        v = 0\n",
    "        for j in range(1, y + 1):\n",
    "            t1 = task[j - 1][1]\n",
    "            t2 = task[k - 1][0]\n",
    "            t3 = task[j - 1][0]\n",
    "            v += t1 * (1 / (l * t2)) * ceil((l * t2) / t3)\n",
    "        if v <= 1:\n",
    "            return True\n",
    "    return False    \n",
    "\n",
    "def RMS(n, task):\n",
    "    s = [[] for _ in range(n)]\n",
    "    for i in range(1, n + 1):\n",
    "        for k in range(1, i + 1):\n",
    "            for l in range(1, ceil(task[i - 1][0] / task[k - 1][0]) + 1):\n",
    "                s[i - 1].append([k, l])\n",
    "    for i in range(1, len(s) + 1):\n",
    "        ok = compare(task, s[i - 1], i)\n",
    "        if not ok:\n",
    "            return False\n",
    "    return True\n",
    "\n",
    "task.sort(key=lambda x:x[1])\n",
    "u = 0\n",
    "number1 = task[0][1] \n",
    "number2 = task[1][1]\n",
    "lcm = LCM(number1, number2) \n",
    "  \n",
    "for i in range(2, len(task)): \n",
    "    lcm = LCM(lcm, task[i][1]) \n",
    "      \n",
    "for i in range(0,n):\n",
    "    u = u+(task[i][0]/task[i][1])\n",
    "u = round(u, 2)    \n",
    "print('Average utilization is: ', u)\n",
    "\n",
    "#N is to check condition schedulability\n",
    "N=((n*((2**(1/n))-1)))\n",
    "print('n is: ', N)\n",
    "\n",
    "if RMS(n, task):\n",
    "    print(\"Schedulable\")\n",
    "else:\n",
    "    print(\"not schedulable\")"
   ]
  }
 ],
 "metadata": {
  "kernelspec": {
   "display_name": "Python 3",
   "language": "python",
   "name": "python3"
  },
  "language_info": {
   "codemirror_mode": {
    "name": "ipython",
    "version": 3
   },
   "file_extension": ".py",
   "mimetype": "text/x-python",
   "name": "python",
   "nbconvert_exporter": "python",
   "pygments_lexer": "ipython3",
   "version": "3.8.5"
  }
 },
 "nbformat": 4,
 "nbformat_minor": 4
}
