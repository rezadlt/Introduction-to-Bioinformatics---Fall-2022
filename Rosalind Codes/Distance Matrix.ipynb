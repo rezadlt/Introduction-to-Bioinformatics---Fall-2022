{
 "cells": [
  {
   "cell_type": "code",
   "execution_count": 11,
   "metadata": {},
   "outputs": [
    {
     "name": "stdout",
     "output_type": "stream",
     "text": [
      "0.00000 0.53000 0.31600 0.30800 0.49900 0.55600 0.30100 0.45500 0.46100 0.45500 \n",
      "0.53000 0.00000 0.61200 0.55200 0.63500 0.49400 0.45700 0.62400 0.65500 0.30800 \n",
      "0.31600 0.61200 0.00000 0.48300 0.32800 0.61200 0.48700 0.55600 0.30300 0.54500 \n",
      "0.30800 0.55200 0.48300 0.00000 0.57800 0.60300 0.45800 0.29500 0.55900 0.53800 \n",
      "0.49900 0.63500 0.32800 0.57800 0.00000 0.64000 0.57600 0.60500 0.47100 0.59000 \n",
      "0.55600 0.49400 0.61200 0.60300 0.64000 0.00000 0.45600 0.62800 0.66400 0.31100 \n",
      "0.30100 0.45700 0.48700 0.45800 0.57600 0.45600 0.00000 0.53700 0.56100 0.29400 \n",
      "0.45500 0.62400 0.55600 0.29500 0.60500 0.62800 0.53700 0.00000 0.61000 0.60100 \n",
      "0.46100 0.65500 0.30300 0.55900 0.47100 0.66400 0.56100 0.61000 0.00000 0.61200 \n",
      "0.45500 0.30800 0.54500 0.53800 0.59000 0.31100 0.29400 0.60100 0.61200 0.00000 \n"
     ]
    }
   ],
   "source": [
    "def p_distance(s1, s2):\n",
    "    assert len(s1) == len(s2)\n",
    "    hamming_distance = 0\n",
    "    for i in range(len(s1)):\n",
    "        if s1[i] != s2[i]:\n",
    "            hamming_distance += 1\n",
    "    return hamming_distance / len(s1)\n",
    "\n",
    "def main():\n",
    "    file = open(\"rosalind_pdst.txt\", \"r\")\n",
    "    sequences = []\n",
    "    file_list = []\n",
    "    temp = 0\n",
    "    for line in file:\n",
    "        line = line.strip()\n",
    "        if line[0] == '>':\n",
    "            temp = temp +1\n",
    "            if line and temp != 1:\n",
    "                sequences.append(\" \".join(file_list))\n",
    "                file_list = []\n",
    "        else:\n",
    "            file_list.append(line)\n",
    "    sequences.append(\" \".join(file_list))\n",
    "    distance_matrix = [[0 for i in range(len(sequences))] for j in range(len(sequences))]\n",
    "    for x in range(len(sequences)):\n",
    "        for y in range(len(sequences)):\n",
    "            if x != y:\n",
    "                distance_matrix[x][y] = p_distance(sequences[x], sequences[y])\n",
    "    for row in distance_matrix:\n",
    "        for data in row:\n",
    "            print(\"{:.5f}\".format(round(data,3)), end=' ')\n",
    "        print()\n",
    "    return\n",
    "\n",
    "if __name__ == \"__main__\":\n",
    "    main()"
   ]
  },
  {
   "cell_type": "code",
   "execution_count": null,
   "metadata": {},
   "outputs": [],
   "source": []
  },
  {
   "cell_type": "code",
   "execution_count": null,
   "metadata": {},
   "outputs": [],
   "source": []
  },
  {
   "cell_type": "code",
   "execution_count": null,
   "metadata": {},
   "outputs": [],
   "source": []
  }
 ],
 "metadata": {
  "kernelspec": {
   "display_name": "Python 3",
   "language": "python",
   "name": "python3"
  },
  "language_info": {
   "codemirror_mode": {
    "name": "ipython",
    "version": 3
   },
   "file_extension": ".py",
   "mimetype": "text/x-python",
   "name": "python",
   "nbconvert_exporter": "python",
   "pygments_lexer": "ipython3",
   "version": "3.8.5"
  }
 },
 "nbformat": 4,
 "nbformat_minor": 4
}
