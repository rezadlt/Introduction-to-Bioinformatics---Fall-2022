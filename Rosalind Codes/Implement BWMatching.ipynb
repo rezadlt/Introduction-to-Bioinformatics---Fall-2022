{
 "cells": [
  {
   "cell_type": "code",
   "execution_count": 3,
   "metadata": {},
   "outputs": [],
   "source": [
    "def char_to_num(ch):\n",
    "    if ch == 'A':\n",
    "        return 1\n",
    "    elif ch == 'C':\n",
    "        return 2\n",
    "    elif ch == 'G':\n",
    "        return 3\n",
    "    elif ch == 'T':\n",
    "        return 4\n",
    "    else:\n",
    "        return 0\n",
    "\n",
    "obj = open(\"/Users/mac/Desktop/courses/Bioinformatic/rosalind_ba9l.txt\", \"r\")\n",
    "bwt = obj.readline()[:-1]\n",
    "\n",
    "first = [0] * 5\n",
    "coun = [0] * 5\n",
    "count = [[0, 0, 0, 0, 0]]\n",
    "for i in range(len(bwt)):\n",
    "    x = char_to_num(bwt[i])\n",
    "    coun[x] += 1\n",
    "    count.append(list.copy(count[-1]))\n",
    "    count[-1][x] += 1\n",
    "for i in range(1,5):\n",
    "    first[i] = first[i - 1] + coun[i - 1]\n",
    "\n",
    "def number_of_matches(pattern):\n",
    "    top_down = [0] * 2\n",
    "    x = char_to_num(pattern[-1])\n",
    "    top_down[0] = first[x]\n",
    "    top_down[1] = first[x] + coun[x] - 1\n",
    "    for i in range(2, len(pattern) + 1):\n",
    "        if top_down[0] > top_down[1]:\n",
    "            return 0\n",
    "        x = char_to_num(pattern[len(pattern) - i])\n",
    "        top_down[0] = first[x] + count[top_down[0]][x]\n",
    "        top_down[1] = first[x] + count[top_down[1] + 1][x] - 1\n",
    "    return top_down[1] - top_down[0] + 1\n",
    "\n",
    "pattern = (obj.readline()[:-1]).split()\n",
    "obj.close()\n",
    "ret = \"\"\n",
    "for i in range(len(pattern)):\n",
    "   ret += (str(number_of_matches(pattern[i])) + \" \" )\n",
    "obj = open(\"solution.txt\", \"w\")\n",
    "obj.write(ret[:-1])\n",
    "obj.close()"
   ]
  },
  {
   "cell_type": "code",
   "execution_count": null,
   "metadata": {},
   "outputs": [],
   "source": []
  }
 ],
 "metadata": {
  "kernelspec": {
   "display_name": "Python 3",
   "language": "python",
   "name": "python3"
  },
  "language_info": {
   "codemirror_mode": {
    "name": "ipython",
    "version": 3
   },
   "file_extension": ".py",
   "mimetype": "text/x-python",
   "name": "python",
   "nbconvert_exporter": "python",
   "pygments_lexer": "ipython3",
   "version": "3.8.5"
  }
 },
 "nbformat": 4,
 "nbformat_minor": 4
}
