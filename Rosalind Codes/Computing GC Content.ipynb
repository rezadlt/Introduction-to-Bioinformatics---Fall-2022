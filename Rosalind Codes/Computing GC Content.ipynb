{
 "cells": [
  {
   "cell_type": "code",
   "execution_count": 7,
   "metadata": {},
   "outputs": [
    {
     "name": "stdout",
     "output_type": "stream",
     "text": [
      "Rosalind_2341\n",
      "52.41844769403824\n"
     ]
    }
   ],
   "source": [
    "rosalind_gc = open('/Users/mac/Desktop/courses/Bioinformatic/rosalind_gc.txt')\n",
    "content = rosalind_gc.readlines()\n",
    "\n",
    "\n",
    "\n",
    "def add_letter(content):\n",
    "    max_GC = 0.0\n",
    "    max_id = 0\n",
    "    temp_id = 0\n",
    "    x =[]\n",
    "    sequence = ''\n",
    "    for i in range (len(content)):\n",
    "        if content[i].startswith('>'):\n",
    "            temp_id = content[i][1:]\n",
    "            sequence = ''\n",
    "        else:\n",
    "            sequence_new = content[i].strip()\n",
    "            sequence = sequence + sequence_new\n",
    "            if i == len(content)-1 or content[i+1].startswith('>'):\n",
    "                GC = 100 * (sequence.count('G') + sequence.count('C')) / len(sequence)\n",
    "                # string that are 'G' or 'C'\n",
    "                if GC > max_GC:\n",
    "                    max_GC = GC\n",
    "                    max_id = temp_id\n",
    "                    \n",
    "    x.append(max_GC)\n",
    "    x.append(max_id)\n",
    "                    \n",
    "    return x\n",
    "id = add_letter(content)\n",
    "print(id[1], end='')\n",
    "print(id[0])"
   ]
  }
 ],
 "metadata": {
  "kernelspec": {
   "display_name": "Python 3",
   "language": "python",
   "name": "python3"
  },
  "language_info": {
   "codemirror_mode": {
    "name": "ipython",
    "version": 3
   },
   "file_extension": ".py",
   "mimetype": "text/x-python",
   "name": "python",
   "nbconvert_exporter": "python",
   "pygments_lexer": "ipython3",
   "version": "3.8.5"
  }
 },
 "nbformat": 4,
 "nbformat_minor": 4
}
