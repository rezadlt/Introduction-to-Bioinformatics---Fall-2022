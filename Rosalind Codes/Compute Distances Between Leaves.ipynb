{
 "cells": [
  {
   "cell_type": "code",
   "execution_count": 4,
   "metadata": {},
   "outputs": [],
   "source": [
    "file = open('/Users/mac/Desktop/courses/Bioinformatic/rosalind_ba7a.txt').read()\n",
    "n=int(file.split(\"\\n\")[0])\n",
    "\n",
    "edges=[edge for edge in file.split(\"\\n\")[1:] if edge!='']\n",
    "graph={}\n",
    "for edge in edges:\n",
    "    start=int(edge.split(\"-\")[0])\n",
    "    end,weight=[int(i) for i in (edge.split(\">\")[-1].split(\":\"))]\n",
    "    if start not in graph:\n",
    "        graph[start]={end:weight}\n",
    "    else:\n",
    "        graph[start].update({end:weight})\n",
    "\n",
    "max_node=max(graph)\n",
    "\n",
    "def warshall_floyd(graph,max_node,n):\n",
    "    dp=[[float(\"inf\") for _ in range(max_node+1)] for _ in range(max_node+1)] \n",
    "    for Node in graph:\n",
    "        for childNode,weight in graph[Node].items():\n",
    "            dp[Node][childNode]=weight\n",
    "\n",
    "    for k in range(max_node+1):\n",
    "        for i in range(max_node+1):\n",
    "            for j in range(max_node+1):\n",
    "                dp[i][j]=min(dp[i][j], dp[i][k]+dp[k][j])\n",
    "\n",
    "    for i in range(len(dp)):\n",
    "        for j in range(len(dp)):\n",
    "            if i==j:\n",
    "                dp[i][j]=0\n",
    "\n",
    "    for i in range(n):\n",
    "        print(\" \".join(map(str,dp[i][:n])), end=\"\")\n",
    "        print(\"\")"
   ]
  }
 ],
 "metadata": {
  "kernelspec": {
   "display_name": "Python 3",
   "language": "python",
   "name": "python3"
  },
  "language_info": {
   "codemirror_mode": {
    "name": "ipython",
    "version": 3
   },
   "file_extension": ".py",
   "mimetype": "text/x-python",
   "name": "python",
   "nbconvert_exporter": "python",
   "pygments_lexer": "ipython3",
   "version": "3.8.5"
  }
 },
 "nbformat": 4,
 "nbformat_minor": 4
}
