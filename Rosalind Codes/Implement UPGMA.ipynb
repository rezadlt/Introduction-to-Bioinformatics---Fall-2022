{
 "cells": [
  {
   "cell_type": "code",
   "execution_count": null,
   "metadata": {},
   "outputs": [],
   "source": [
    "def get_min(arr):\n",
    "    min_ = 10000\n",
    "    ind = [-1,-1]\n",
    "    for i in range(len(arr)):\n",
    "        for j in range(len(arr)):\n",
    "            if arr[i][j]< min_ and arr[i][j] != 0:\n",
    "                min_ = arr[i][j]\n",
    "                ind[0] = i\n",
    "                ind[1] = j\n",
    "    return min_, ind\n",
    "\n",
    "\n",
    "num = int(input())\n",
    "score = []\n",
    "for i in range(num):\n",
    "    score.append(list(map(int, input().split())))\n",
    "adjacency = []\n",
    "height = [0] * num\n",
    "number = [1] * num\n",
    "org_index = []\n",
    "for i in range(num):\n",
    "    org_index.append(i)\n",
    "for i in range(num):\n",
    "    adjacency.append([])\n",
    "while len(score) != 1:\n",
    "    min_, index = get_min(score)\n",
    "    org_index.append(len(adjacency))\n",
    "    number.append(number[index[0]] + number[index[1]])\n",
    "    height.append(min_ / 2)\n",
    "    for i in range(len(score)):\n",
    "        score[i].append((number[index[0]] * score[i][index[0]] + \\\n",
    "                             number[index[1]] * score[i][index[1]]) / \\\n",
    "                            (number[index[0]] + number[index[1]]))\n",
    "    score.append([])\n",
    "    for i in range(len(score) - 1):\n",
    "        score[-1].append(score[i][-1])\n",
    "    score[-1].append(0)\n",
    "    score.pop(max(index[0], index[1]))\n",
    "    score.pop(min(index[0], index[1]))\n",
    "    for i in range(len(score)):\n",
    "        score[i].pop(max(index[0], index[1]))\n",
    "        score[i].pop(min(index[0], index[1]))\n",
    "    number.pop(max(index[0], index[1]))\n",
    "    number.pop(min(index[0], index[1]))\n",
    "    adjacency.append([org_index[index[0]], org_index[index[1]]])\n",
    "    adjacency[org_index[index[1]]].append(len(adjacency) - 1)\n",
    "    adjacency[org_index[index[0]]].append(len(adjacency) - 1)\n",
    "    org_index.pop(max(index[0], index[1]))\n",
    "    org_index.pop(min(index[0], index[1]))\n",
    "for i in range(len(adjacency)):\n",
    "    for j in range(len(adjacency[i])):\n",
    "        print(str(i) + \"->\" + str(adjacency[i][j]) + \":\", end='')\n",
    "        print('{:.3f}'.format(round(abs(height[adjacency[i][j]] - height[i]), 3)))"
   ]
  }
 ],
 "metadata": {
  "kernelspec": {
   "display_name": "Python 3",
   "language": "python",
   "name": "python3"
  },
  "language_info": {
   "codemirror_mode": {
    "name": "ipython",
    "version": 3
   },
   "file_extension": ".py",
   "mimetype": "text/x-python",
   "name": "python",
   "nbconvert_exporter": "python",
   "pygments_lexer": "ipython3",
   "version": "3.8.5"
  }
 },
 "nbformat": 4,
 "nbformat_minor": 4
}
