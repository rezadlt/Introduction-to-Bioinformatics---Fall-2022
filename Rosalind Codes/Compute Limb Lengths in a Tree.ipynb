{
 "cells": [
  {
   "cell_type": "code",
   "execution_count": 1,
   "metadata": {},
   "outputs": [],
   "source": [
    "def limb(score, n, j):\n",
    "    \n",
    "    min_ = float(\"inf\")\n",
    "\n",
    "    i = 1 if j == 0 else j - 1\n",
    "\n",
    "    for k in range(n):\n",
    "        x = (score[i][j] + score[j][k] - score[i][k])/2\n",
    "        if k != i and k != j and x < min_:\n",
    "            min_ = x\n",
    "    return int(min_)\n",
    "\n",
    "\n",
    "if __name__ == '__main__':\n",
    "    with open('/Users/mac/Desktop/courses/Bioinformatic/rosalind_BA7B.txt') as inFile:\n",
    "        n = int(inFile.readline())\n",
    "        j = int(inFile.readline())\n",
    "        score = [list(map(int, inFile.readline().split())) for _ in range(n)]\n",
    "\n",
    "    with open('/Users/mac/Desktop/courses/Bioinformatic/rosalind_BA7B_out.txt', 'w') as outFile:\n",
    "        print(limb(score, n, j), file=outFile)"
   ]
  }
 ],
 "metadata": {
  "kernelspec": {
   "display_name": "Python 3",
   "language": "python",
   "name": "python3"
  },
  "language_info": {
   "codemirror_mode": {
    "name": "ipython",
    "version": 3
   },
   "file_extension": ".py",
   "mimetype": "text/x-python",
   "name": "python",
   "nbconvert_exporter": "python",
   "pygments_lexer": "ipython3",
   "version": "3.8.5"
  }
 },
 "nbformat": 4,
 "nbformat_minor": 4
}
