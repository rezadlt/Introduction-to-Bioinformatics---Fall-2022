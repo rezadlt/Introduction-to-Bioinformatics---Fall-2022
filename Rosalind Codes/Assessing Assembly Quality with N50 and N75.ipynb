{
 "cells": [
  {
   "cell_type": "code",
   "execution_count": 3,
   "metadata": {},
   "outputs": [
    {
     "name": "stdout",
     "output_type": "stream",
     "text": [
      "204 159\n"
     ]
    }
   ],
   "source": [
    "file= open('/Users/mac/Desktop/courses/Bioinformatic/rosalind_asmq.txt').read()\n",
    "sequence=[]       \n",
    "sequence=[i for i in file.split()]\n",
    "sequence.sort(key=len,reverse=True)\n",
    "total_length = sum(len(x) for x in sequence)\n",
    "    \n",
    "count = 0\n",
    "for i in sequence:\n",
    "    count += len(i)\n",
    "    if count > total_length * 0.5:\n",
    "        N50 = len(i)\n",
    "        break\n",
    "            \n",
    "count = 0\n",
    "for i in sequence:\n",
    "    count += len(i)\n",
    "    if count > total_length * 0.75:\n",
    "        N75 = len(i)\n",
    "        break        \n",
    "\n",
    "print(N50,N75)"
   ]
  },
  {
   "cell_type": "code",
   "execution_count": null,
   "metadata": {},
   "outputs": [],
   "source": []
  }
 ],
 "metadata": {
  "kernelspec": {
   "display_name": "Python 3",
   "language": "python",
   "name": "python3"
  },
  "language_info": {
   "codemirror_mode": {
    "name": "ipython",
    "version": 3
   },
   "file_extension": ".py",
   "mimetype": "text/x-python",
   "name": "python",
   "nbconvert_exporter": "python",
   "pygments_lexer": "ipython3",
   "version": "3.8.5"
  }
 },
 "nbformat": 4,
 "nbformat_minor": 4
}
